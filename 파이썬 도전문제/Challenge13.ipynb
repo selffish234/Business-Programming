{
 "cells": [
  {
   "cell_type": "markdown",
   "metadata": {},
   "source": [
    "# 도전 문제 #13\n",
    "\n",
    "---"
   ]
  },
  {
   "cell_type": "markdown",
   "metadata": {},
   "source": [
    "## 문제\n",
    "\n",
    "하나의 양팔 저울을 이용하여 물건의 무게를 측정하려고 한다. 이 저울의 양 팔의 끝에는 물건이나 추를 올려놓는 접시가 달려 있고, 양팔의 길이는 같다. 또한, 저울의 한쪽에는 저울추들만 놓을 수 있고, 다른 쪽에는 무게를 측정하려는 물건만 올려놓을 수 있다."
   ]
  },
  {
   "cell_type": "markdown",
   "metadata": {},
   "source": [
    "<div>\n",
    "<img src=\"https://cdn.pixabay.com/photo/2017/01/31/22/23/balance-2027701_1280.png\" width=\"200\"/>\n",
    "</div>"
   ]
  },
  {
   "cell_type": "markdown",
   "metadata": {},
   "source": [
    "무게가 양의 정수(M)인 N개의 저울추가 주어질 때, 이 추들을 사용하여 측정할 수 없는 양의 정수 무게 중 최솟값을 구하는 프로그램을 작성하시오.\n",
    "\n",
    "**예를 들어, 무게가 각각 `3, 1, 6, 2, 7, 30, 1`인 7개의 저울추가 주어졌을 때, 이 추들로 측정할 수 없는 양의 정수 무게 중 최솟값은 `21`이다.**"
   ]
  },
  {
   "cell_type": "markdown",
   "metadata": {},
   "source": [
    "### 입력 예시\n",
    "\n",
    "7\n",
    "\n",
    "\n",
    "3 1 6 2 7 30 1\n",
    "\n",
    "### 출력 예시\n",
    "\n",
    "21\n",
    "\n",
    "### 입출력 규칙\n",
    "1 <= N, M <= 1000\n",
    "\n",
    "----"
   ]
  },
  {
   "cell_type": "code",
   "execution_count": 2,
   "metadata": {
    "ExecuteTime": {
     "end_time": "2022-12-04T13:34:25.026886Z",
     "start_time": "2022-12-04T13:34:25.017645Z"
    }
   },
   "outputs": [],
   "source": [
    "N = 7\n",
    "num = [3, 1, 6, 2, 7, 30, 1]"
   ]
  },
  {
   "cell_type": "code",
   "execution_count": 23,
   "metadata": {
    "ExecuteTime": {
     "end_time": "2022-12-04T13:49:24.591513Z",
     "start_time": "2022-12-04T13:49:24.581044Z"
    }
   },
   "outputs": [],
   "source": [
    "ans = 1\n",
    "num.sort()"
   ]
  },
  {
   "cell_type": "code",
   "execution_count": 36,
   "metadata": {
    "ExecuteTime": {
     "end_time": "2022-12-04T13:54:47.472557Z",
     "start_time": "2022-12-04T13:54:47.454258Z"
    }
   },
   "outputs": [],
   "source": [
    "def minim(N,num):\n",
    "    ans = 1\n",
    "    num.sort()\n",
    "    \n",
    "    for x in num:\n",
    "        if ans < x:\n",
    "            break\n",
    "\n",
    "        ans += x\n",
    "    print(ans)"
   ]
  },
  {
   "cell_type": "code",
   "execution_count": 38,
   "metadata": {
    "ExecuteTime": {
     "end_time": "2022-12-04T13:55:37.381372Z",
     "start_time": "2022-12-04T13:55:37.368427Z"
    }
   },
   "outputs": [
    {
     "name": "stdout",
     "output_type": "stream",
     "text": [
      "3\n"
     ]
    }
   ],
   "source": [
    "minim(11, [1, 1, 4, 6, 7, 15, 16, 30, 40, 90, 100])"
   ]
  },
  {
   "cell_type": "code",
   "execution_count": null,
   "metadata": {},
   "outputs": [],
   "source": []
  }
 ],
 "metadata": {
  "kernelspec": {
   "display_name": "Python 3 (ipykernel)",
   "language": "python",
   "name": "python3"
  },
  "language_info": {
   "codemirror_mode": {
    "name": "ipython",
    "version": 3
   },
   "file_extension": ".py",
   "mimetype": "text/x-python",
   "name": "python",
   "nbconvert_exporter": "python",
   "pygments_lexer": "ipython3",
   "version": "3.9.12"
  },
  "toc": {
   "base_numbering": 1,
   "nav_menu": {},
   "number_sections": true,
   "sideBar": true,
   "skip_h1_title": false,
   "title_cell": "Table of Contents",
   "title_sidebar": "Contents",
   "toc_cell": false,
   "toc_position": {},
   "toc_section_display": true,
   "toc_window_display": false
  }
 },
 "nbformat": 4,
 "nbformat_minor": 4
}
