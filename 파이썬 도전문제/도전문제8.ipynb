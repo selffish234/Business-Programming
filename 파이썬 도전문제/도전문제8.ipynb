{
 "cells": [
  {
   "cell_type": "code",
   "execution_count": 2,
   "id": "e82e8266",
   "metadata": {
    "ExecuteTime": {
     "end_time": "2022-11-30T12:56:51.448363Z",
     "start_time": "2022-11-30T12:56:51.433232Z"
    }
   },
   "outputs": [
    {
     "name": "stdout",
     "output_type": "stream",
     "text": [
      "[1, 2, 5, 14, 41, 122, 365, 1094, 3281, 9842, 29525, 88574, 265721, 797162, 2391485]\n"
     ]
    }
   ],
   "source": [
    "def getnums(num):\n",
    "    n=0\n",
    "    l=[1]\n",
    "    for i in range(num-1):\n",
    "            l.append(l[-1]+3**n)\n",
    "            n+=1\n",
    "    return l\n",
    "\n",
    "print(getnums(15))"
   ]
  },
  {
   "cell_type": "code",
   "execution_count": null,
   "id": "f1068105",
   "metadata": {},
   "outputs": [],
   "source": []
  }
 ],
 "metadata": {
  "kernelspec": {
   "display_name": "Python 3 (ipykernel)",
   "language": "python",
   "name": "python3"
  },
  "language_info": {
   "codemirror_mode": {
    "name": "ipython",
    "version": 3
   },
   "file_extension": ".py",
   "mimetype": "text/x-python",
   "name": "python",
   "nbconvert_exporter": "python",
   "pygments_lexer": "ipython3",
   "version": "3.9.12"
  },
  "toc": {
   "base_numbering": 1,
   "nav_menu": {},
   "number_sections": true,
   "sideBar": true,
   "skip_h1_title": false,
   "title_cell": "Table of Contents",
   "title_sidebar": "Contents",
   "toc_cell": false,
   "toc_position": {},
   "toc_section_display": true,
   "toc_window_display": false
  }
 },
 "nbformat": 4,
 "nbformat_minor": 5
}
