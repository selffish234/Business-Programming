{
 "cells": [
  {
   "cell_type": "code",
   "execution_count": 1,
   "id": "4259d42e",
   "metadata": {
    "ExecuteTime": {
     "end_time": "2022-12-05T04:19:25.807958Z",
     "start_time": "2022-12-05T04:19:24.494528Z"
    }
   },
   "outputs": [
    {
     "name": "stdout",
     "output_type": "stream",
     "text": [
      "T를 여기에 입력하세요: 100\n",
      "0 1 4\n"
     ]
    }
   ],
   "source": [
    "A = 5*60\n",
    "B = 1*60\n",
    "C = 10\n",
    "T = int(input('T를 여기에 입력하세요: '))\n",
    "if T % 10 != 0:\n",
    "    print(-1)\n",
    "else:\n",
    "    a = T//A\n",
    "    if A > T:\n",
    "        a = 0\n",
    "    T = T-(a*A)\n",
    "    b = T//B\n",
    "    if B > T:\n",
    "        b = 0\n",
    "    T = T-(b*B)    \n",
    "    c = T//C\n",
    "    print(a, b, c)"
   ]
  },
  {
   "cell_type": "code",
   "execution_count": null,
   "id": "2eb8b653",
   "metadata": {},
   "outputs": [],
   "source": []
  }
 ],
 "metadata": {
  "kernelspec": {
   "display_name": "Python 3 (ipykernel)",
   "language": "python",
   "name": "python3"
  },
  "language_info": {
   "codemirror_mode": {
    "name": "ipython",
    "version": 3
   },
   "file_extension": ".py",
   "mimetype": "text/x-python",
   "name": "python",
   "nbconvert_exporter": "python",
   "pygments_lexer": "ipython3",
   "version": "3.9.12"
  },
  "toc": {
   "base_numbering": 1,
   "nav_menu": {},
   "number_sections": true,
   "sideBar": true,
   "skip_h1_title": false,
   "title_cell": "Table of Contents",
   "title_sidebar": "Contents",
   "toc_cell": false,
   "toc_position": {},
   "toc_section_display": true,
   "toc_window_display": false
  }
 },
 "nbformat": 4,
 "nbformat_minor": 5
}
