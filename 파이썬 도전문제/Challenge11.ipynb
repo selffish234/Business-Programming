{
 "cells": [
  {
   "cell_type": "markdown",
   "metadata": {},
   "source": [
    "# 도전 문제 #11\n",
    "\n",
    "---"
   ]
  },
  {
   "attachments": {
    "image.png": {
     "image/png": "[encoded data removed]"
    }
   },
   "cell_type": "markdown",
   "metadata": {},
   "source": [
    "### 문제\n",
    "\n",
    "**케빈 베이컨의 6단계 법칙에 의하면 지구에 있는 모든 사람들은 최대 6단계 이내에서 서로 아는 사람으로 연결될 수 있다.** 케빈 베이컨 게임은 임의의 두 사람이 최소 몇 단계 만에 이어질 수 있는지 계산하는 게임이다.\n",
    "\n",
    "예를 들면, **전혀 상관없을 것 같은 평범한 한국의 대학생과 미국 대통령**은 몇 단계만에 이어질 수 있을까?\n",
    "\n",
    "1. 평범한 정치외교학과 대학생\n",
    "2. 학회에서 만난 아주대 정치외교학과 친구\n",
    "3. 아주대 학생의 지도교수인 아주대 정치외교학과 교수\n",
    "4. 아주대 정치외교학과 교수와 친한 대한민국 외교부 장관\n",
    "5. 대한민국 외교부 장관과 친분이 있는 미국 대통령\n",
    "\n",
    "케빈 베이컨은 미국 헐리우드 영화배우들 끼리 케빈 베이컨 게임을 했을때 나오는 단계의 총 합이 가장 적은 사람이라고 한다.\n",
    "\n",
    "오늘은 아주대학교 학생 그룹에서 케빈 베이컨의 수가 가장 작은 사람을 찾으려고 한다. 케빈 베이컨 수는 모든 사람과 케빈 베이컨 게임을 했을 때, 나오는 단계의 합이다.\n",
    "\n",
    "> 예를 들어, 아주대학교의 학생이 5명이고, 1과 3, 1과 4, 2와 3, 3과 4, 4와 5가 친구인 경우를 생각해보자.\n",
    ">  \n",
    "> 1은 2까지 3을 통해 2단계 만에, 3까지 1단계, 4까지 1단계, 5까지 4를 통해서 2단계 만에 알 수 있다. 따라서, 케빈 베이컨의 수는 2+1+1+2 = 6이다.\n",
    ">  \n",
    "> 2는 1까지 3을 통해서 2단계 만에, 3까지 1단계 만에, 4까지 3을 통해서 2단계 만에, 5까지 3과 4를 통해서 3단계 만에 알 수 있다. 따라서, 케빈 베이컨의 수는 2+1+2+3 = 8이다.\n",
    ">  \n",
    "> 3은 1까지 1단계, 2까지 1단계, 4까지 1단계, 5까지 4를 통해 2단계 만에 알 수 있다. 따라서, 케빈 베이컨의 수는 1+1+1+2 = 5이다.\n",
    ">  \n",
    "> 4는 1까지 1단계, 2까지 3을 통해 2단계, 3까지 1단계, 5까지 1단계 만에 알 수 있다. 4의 케빈 베이컨의 수는 1+2+1+1 = 5가 된다.\n",
    ">  \n",
    "> 마지막으로 5는 1까지 4를 통해 2단계, 2까지 4와 3을 통해 3단계, 3까지 4를 통해 2단계, 4까지 1단계 만에 알 수 있다. 5의 케빈 베이컨의 수는 2+3+2+1 = 8이다.\n",
    ">  \n",
    "> 5명의 학생 중에서 케빈 베이컨의 수가 가장 작은 사람은 3과 4이다.\n",
    "\n",
    "  \n",
    "![image.png](attachment:image.png)\n",
    "  \n",
    "\n",
    "\n",
    "아주대학교 학생 샘플 그룹의 인원수와 친구 관계가 입력으로 주어졌을 때, 케빈 베이컨의 수가 가장 작은 사람을 구하는 프로그램을 작성하시오.\n",
    "\n",
    "### 입력 규칙\n",
    "\n",
    "첫째 줄에 유저의 수 N (2 ≤ N ≤ 100)과 친구 관계의 수 M (1 ≤ M ≤ 5,000)이 주어진다.\n",
    "\n",
    "둘째 줄부터 M개의 줄에는 친구 관계가 주어진다. 친구 관계는 A와 B로 이루어져 있으며, A와 B가 친구라는 뜻이다. A와 B가 친구이면, B와 A도 친구이며, A와 B가 같은 경우는 없다. 친구 관계는 중복되어 들어올 수도 있으며, 고립되어 떨어져 있는 친구 또는 소그룹은 없다고 가정한다. (모두 친구관계로 연결되어 있다.)\n",
    "\n",
    "### 출력 규칙\n",
    "\n",
    "케빈 베이컨의 수가 가장 작은 사람을 출력한다. 그런 사람이 여러 명일 경우에는 번호가 가장 작은 사람을 출력한다."
   ]
  },
  {
   "cell_type": "markdown",
   "metadata": {},
   "source": [
    "## 입력 예\n",
    "\n",
    "5 5  \n",
    "1 3  \n",
    "1 4  \n",
    "4 5  \n",
    "4 3  \n",
    "3 2  \n",
    "\n",
    "## 출력 예\n",
    "\n",
    "3"
   ]
  },
  {
   "cell_type": "markdown",
   "metadata": {},
   "source": [
    "#### 입력값 자르고 저장"
   ]
  },
  {
   "cell_type": "code",
   "execution_count": 2,
   "metadata": {},
   "outputs": [
    {
     "data": {
      "text/plain": [
       "'5 5\\n1 3\\n1 4\\n4 5\\n4 3\\n3 2'"
      ]
     },
     "execution_count": 2,
     "metadata": {},
     "output_type": "execute_result"
    }
   ],
   "source": [
    "s = '''5 5\n",
    "1 3\n",
    "1 4\n",
    "4 5\n",
    "4 3\n",
    "3 2'''\n",
    "\n",
    "s"
   ]
  },
  {
   "cell_type": "code",
   "execution_count": 3,
   "metadata": {},
   "outputs": [
    {
     "data": {
      "text/plain": [
       "['5 5', '1 3', '1 4', '4 5', '4 3', '3 2']"
      ]
     },
     "execution_count": 3,
     "metadata": {},
     "output_type": "execute_result"
    }
   ],
   "source": [
    "temp = s.split('\\n')\n",
    "\n",
    "temp"
   ]
  },
  {
   "cell_type": "code",
   "execution_count": 8,
   "metadata": {},
   "outputs": [],
   "source": [
    "N, M = list(map(int, temp[0].split(' ')))"
   ]
  },
  {
   "cell_type": "code",
   "execution_count": 15,
   "metadata": {},
   "outputs": [
    {
     "data": {
      "text/plain": [
       "[(1, 3), (1, 4), (4, 5), (4, 3), (3, 2)]"
      ]
     },
     "execution_count": 15,
     "metadata": {},
     "output_type": "execute_result"
    }
   ],
   "source": [
    "graph = []\n",
    "\n",
    "for i in range(1, M+1):\n",
    "    r = list(map(int, temp[i].split(' ')))\n",
    "    graph.append((r[0], r[1]))\n",
    "    \n",
    "graph"
   ]
  },
  {
   "cell_type": "markdown",
   "metadata": {},
   "source": [
    "- N, M은 정수 형태의 기본 input값이고\n",
    "- graph는 입력 예시에 있는 대로 5개 노드의 연결관계를 튜플로 나타낸 리스트입니다.\n",
    "\n",
    "#### Your code here"
   ]
  },
  {
   "cell_type": "code",
   "execution_count": null,
   "metadata": {},
   "outputs": [],
   "source": []
  }
 ],
 "metadata": {
  "kernelspec": {
   "display_name": "Python 3",
   "language": "python",
   "name": "python3"
  },
  "language_info": {
   "codemirror_mode": {
    "name": "ipython",
    "version": 3
   },
   "file_extension": ".py",
   "mimetype": "text/x-python",
   "name": "python",
   "nbconvert_exporter": "python",
   "pygments_lexer": "ipython3",
   "version": "3.7.6"
  }
 },
 "nbformat": 4,
 "nbformat_minor": 5
}
