{
 "cells": [
  {
   "cell_type": "markdown",
   "id": "fcb7deb7",
   "metadata": {},
   "source": [
    "# 도전 문제 #9\n",
    "\n",
    "---"
   ]
  },
  {
   "cell_type": "markdown",
   "id": "876567d5",
   "metadata": {},
   "source": [
    "### 문제\n",
    "\n",
    "상혁이는 만보기를 가지고 있다. 이 만보기에는 독특한 특징이 있는데 이는 바로 숫자 4를 나타낼 수 없다는 것이다. 즉, 숫자 3 다음에는 바로 5가 보여지게 된다는 것이다.\n",
    "\n",
    "만약 현재 113이 보여지는 상태에서 한 걸음을 더 걷는다면 115로 보여지게 된다.\n",
    "\n",
    "상혁이는 현재 이 만보기에 보여지는 수가 n이라면 원래 정상적인 만보기에 보여져야 할 수는 무엇이었는지가 궁금해졌다. 상혁이를 위해 이 문제를 해결해보자!\n",
    "\n",
    "\n",
    "### 제한\n",
    "\n",
    "1 ≤ n ≤ 10000\n",
    "\n",
    "### 예제 입력\n",
    "\n",
    "15\n",
    "\n",
    "### 예제 출력\n",
    "\n",
    "13"
   ]
  },
  {
   "cell_type": "code",
   "execution_count": 2,
   "id": "4ff4a582",
   "metadata": {
    "ExecuteTime": {
     "end_time": "2022-12-04T12:49:07.441025Z",
     "start_time": "2022-12-04T12:49:04.162404Z"
    }
   },
   "outputs": [
    {
     "name": "stdout",
     "output_type": "stream",
     "text": [
      "만보기에 보여지는 숫자는 몇입니까? : 150\n",
      "115\n"
     ]
    }
   ],
   "source": [
    "# Your code here\n",
    "def pedometer():\n",
    "    while True:\n",
    "        n=int(input('만보기에 보여지는 숫자는 몇입니까? : '))\n",
    "        if int(n)>10000 or int(n)<0:\n",
    "            print('0과 10000사이에 숫자를 입력해주세요')\n",
    "            continue\n",
    "        else:\n",
    "            break\n",
    "    count=0\n",
    "    for i in range(1,int(n)+1):\n",
    "        if i%10==4:\n",
    "            count+=1\n",
    "        elif (i/10)%10==4:\n",
    "            count+=10\n",
    "        elif (i/100)%10==4:\n",
    "            count+=100\n",
    "        elif (i/1000)==4:\n",
    "            count+=1000\n",
    "    print(int(n)-count)\n",
    "\n",
    "pedometer()"
   ]
  },
  {
   "cell_type": "code",
   "execution_count": null,
   "id": "c7823524",
   "metadata": {},
   "outputs": [],
   "source": []
  }
 ],
 "metadata": {
  "kernelspec": {
   "display_name": "Python 3 (ipykernel)",
   "language": "python",
   "name": "python3"
  },
  "language_info": {
   "codemirror_mode": {
    "name": "ipython",
    "version": 3
   },
   "file_extension": ".py",
   "mimetype": "text/x-python",
   "name": "python",
   "nbconvert_exporter": "python",
   "pygments_lexer": "ipython3",
   "version": "3.9.12"
  },
  "toc": {
   "base_numbering": 1,
   "nav_menu": {},
   "number_sections": true,
   "sideBar": true,
   "skip_h1_title": false,
   "title_cell": "Table of Contents",
   "title_sidebar": "Contents",
   "toc_cell": false,
   "toc_position": {},
   "toc_section_display": true,
   "toc_window_display": false
  }
 },
 "nbformat": 4,
 "nbformat_minor": 5
}
