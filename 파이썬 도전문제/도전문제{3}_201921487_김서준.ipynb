{
 "cells": [
  {
   "cell_type": "code",
   "execution_count": 26,
   "id": "adffedce",
   "metadata": {
    "ExecuteTime": {
     "end_time": "2022-10-23T08:13:35.456445Z",
     "start_time": "2022-10-23T08:13:29.802758Z"
    }
   },
   "outputs": [
    {
     "name": "stdout",
     "output_type": "stream",
     "text": [
      "끝내야 하는 일의 개수: 5\n",
      "오늘의 피로도 할당량: 10\n",
      "오늘의 할 일 목록: 2 2 2 2 2\n"
     ]
    }
   ],
   "source": [
    "N = int(input('끝내야 하는 일의 개수: '))\n",
    "P = int(input('오늘의 피로도 할당량: '))\n",
    "# 예제 입력과 같이 공백으로 나눠서 입력해보세요.\n",
    "works = list(map(int, input('오늘의 할 일 목록: ').split(' ')))"
   ]
  },
  {
   "cell_type": "code",
   "execution_count": 27,
   "id": "a9e69a6b",
   "metadata": {
    "ExecuteTime": {
     "end_time": "2022-10-23T08:13:37.466526Z",
     "start_time": "2022-10-23T08:13:37.453077Z"
    }
   },
   "outputs": [
    {
     "data": {
      "text/plain": [
       "(5, 10, [2, 2, 2, 2, 2])"
      ]
     },
     "execution_count": 27,
     "metadata": {},
     "output_type": "execute_result"
    }
   ],
   "source": [
    "N, P, works"
   ]
  },
  {
   "cell_type": "code",
   "execution_count": 3,
   "id": "e181f055",
   "metadata": {
    "ExecuteTime": {
     "end_time": "2022-10-23T07:56:42.947848Z",
     "start_time": "2022-10-23T07:56:42.932020Z"
    }
   },
   "outputs": [
    {
     "data": {
      "text/plain": [
       "1"
      ]
     },
     "execution_count": 3,
     "metadata": {},
     "output_type": "execute_result"
    }
   ],
   "source": []
  },
  {
   "cell_type": "code",
   "execution_count": 28,
   "id": "50ea41eb",
   "metadata": {
    "ExecuteTime": {
     "end_time": "2022-10-23T08:13:39.077168Z",
     "start_time": "2022-10-23T08:13:39.061639Z"
    }
   },
   "outputs": [
    {
     "name": "stdout",
     "output_type": "stream",
     "text": [
      "5\n"
     ]
    }
   ],
   "source": [
    "i = 0\n",
    "net_P = 0\n",
    "while True:\n",
    "    if net_P < P:\n",
    "        net_P += min(works)\n",
    "        works.remove(min(works))\n",
    "        i += 1\n",
    "    elif net_P >= P:\n",
    "        break\n",
    "print(i)"
   ]
  }
 ],
 "metadata": {
  "kernelspec": {
   "display_name": "Python 3 (ipykernel)",
   "language": "python",
   "name": "python3"
  },
  "language_info": {
   "codemirror_mode": {
    "name": "ipython",
    "version": 3
   },
   "file_extension": ".py",
   "mimetype": "text/x-python",
   "name": "python",
   "nbconvert_exporter": "python",
   "pygments_lexer": "ipython3",
   "version": "3.9.12"
  },
  "toc": {
   "base_numbering": 1,
   "nav_menu": {},
   "number_sections": true,
   "sideBar": true,
   "skip_h1_title": false,
   "title_cell": "Table of Contents",
   "title_sidebar": "Contents",
   "toc_cell": false,
   "toc_position": {},
   "toc_section_display": true,
   "toc_window_display": false
  }
 },
 "nbformat": 4,
 "nbformat_minor": 5
}
