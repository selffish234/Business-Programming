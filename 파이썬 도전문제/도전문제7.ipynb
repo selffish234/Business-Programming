{
 "cells": [
  {
   "cell_type": "code",
   "execution_count": null,
   "id": "739c8536",
   "metadata": {},
   "outputs": [],
   "source": [
    "class Student:\n",
    "    def __init__(self,name,std_id,major):\n",
    "        self.name=name\n",
    "        self.std_id=std_id\n",
    "        self.major=major\n",
    "        self.__scores=[]\n",
    "        self.__subjet=[]\n",
    "\n",
    "    def writeScore(self,course_title,grade):\n",
    "        try:\n",
    "            if grade not in ['A+','A0','B+','B0','C+','C0','F']:\n",
    "                raise Exception\n",
    "            elif self.__subjet.count(course_title)>=1:\n",
    "                    for i in self.__scores:\n",
    "                        if i[\"course_title\"]==course_title:\n",
    "                            i[\"grade\"]=grade\n",
    "            else:\n",
    "                self.__scores.append({\"course_title\":course_title,'grade':grade})\n",
    "                self.__subjet.append(course_title)\n",
    "        except Exception:\n",
    "            print('올바르지 않은 성적을 입력하셨습니다.')\n",
    "\n",
    "    def getScore(self):\n",
    "        return self.__scores"
   ]
  }
 ],
 "metadata": {
  "kernelspec": {
   "display_name": "Python 3 (ipykernel)",
   "language": "python",
   "name": "python3"
  },
  "language_info": {
   "codemirror_mode": {
    "name": "ipython",
    "version": 3
   },
   "file_extension": ".py",
   "mimetype": "text/x-python",
   "name": "python",
   "nbconvert_exporter": "python",
   "pygments_lexer": "ipython3",
   "version": "3.9.12"
  },
  "toc": {
   "base_numbering": 1,
   "nav_menu": {},
   "number_sections": true,
   "sideBar": true,
   "skip_h1_title": false,
   "title_cell": "Table of Contents",
   "title_sidebar": "Contents",
   "toc_cell": false,
   "toc_position": {},
   "toc_section_display": true,
   "toc_window_display": false
  }
 },
 "nbformat": 4,
 "nbformat_minor": 5
}
