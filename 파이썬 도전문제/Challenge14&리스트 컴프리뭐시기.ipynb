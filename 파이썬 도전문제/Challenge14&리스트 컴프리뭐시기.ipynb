{
 "cells": [
  {
   "cell_type": "markdown",
   "metadata": {},
   "source": [
    "# 도전 문제 #14\n",
    "\n",
    "---"
   ]
  },
  {
   "cell_type": "markdown",
   "metadata": {},
   "source": [
    "## 문제\n",
    "\n",
    "'개미 수열'은 읽고 말하는 대로 다음 항을 도출하는 수열이다. 보통은 초항이 1이지만, 다른 수를 초항으로 설정하기도 한다. 보고 말하기 수열이라고도 하며, 프랑스의 유명 소설가 베르나르 베르베르의 소설 <개미>에 등장한다고 하여 개미 수열이라고도 한다. 이 수열은 일상적 언어를 사용한 구술적인 방식으로 정의되기에, 엄밀한 수학적 표현으로 정의되는 여타 수열과 달리 일반항이나 점화식이 아직까지 알려지지 않았다."
   ]
  },
  {
   "cell_type": "markdown",
   "metadata": {},
   "source": [
    "<div>\n",
    "<img src = 'https://dataonair.or.kr/publishing/img/knowledge/tech_img1787.jpg', width = 400>\n",
    "</div>"
   ]
  },
  {
   "cell_type": "markdown",
   "metadata": {},
   "source": [
    "1로 시작되는 이 수열은 다음에는 1이 1개 있다는 의미로 **`11`** 이, 11은 1이 2개 있으므로 **`12`** 가, 12는 1이 1개, 2가 1개이므로 **`1121`** 이 된다.\n",
    "\n",
    "이렇게 동일한 숫자가 몇 개 연속인지를 세어 붙이면 다음 수가 되는 구조이다.\n",
    "\n",
    "<표 1>에서 볼 수 있듯이, 수열이 계속 진행이 되면 8번째 수는 **`1123123111`** 이 된다."
   ]
  },
  {
   "cell_type": "markdown",
   "metadata": {},
   "source": [
    "> 개미 수열의 1번째부터 10번째까지를 줄 구분하여 출력해 보세요.\n",
    "> \n",
    "> (주의) 단순히 손으로 풀어서 for+print 문으로 풀면 안됩니다."
   ]
  },
  {
   "cell_type": "markdown",
   "metadata": {},
   "source": [
    "---"
   ]
  },
  {
   "cell_type": "code",
   "execution_count": 1,
   "metadata": {},
   "outputs": [
    {
     "data": {
      "text/plain": [
       "[1, 2, 3, 4]"
      ]
     },
     "execution_count": 1,
     "metadata": {},
     "output_type": "execute_result"
    }
   ],
   "source": [
    "# Hint!\n",
    "\n",
    "example = '1111222334'\n",
    "\n",
    "temp = list(set(list(map(int, example))))\n",
    "\n",
    "temp"
   ]
  },
  {
   "cell_type": "code",
   "execution_count": 2,
   "metadata": {},
   "outputs": [
    {
     "data": {
      "text/plain": [
       "(4, 3)"
      ]
     },
     "execution_count": 2,
     "metadata": {},
     "output_type": "execute_result"
    }
   ],
   "source": [
    "# 각각 example에서 1의 개수, 2의 개수\n",
    "\n",
    "example.count(str(temp[0])), example.count(str(temp[1]))"
   ]
  },
  {
   "cell_type": "markdown",
   "metadata": {},
   "source": [
    "### Your codes here"
   ]
  },
  {
   "cell_type": "code",
   "execution_count": 24,
   "metadata": {
    "ExecuteTime": {
     "end_time": "2022-12-05T03:23:17.809398Z",
     "start_time": "2022-12-05T03:23:17.791284Z"
    }
   },
   "outputs": [
    {
     "name": "stdout",
     "output_type": "stream",
     "text": [
      "1\n"
     ]
    }
   ],
   "source": [
    "a = ['1']\n",
    "print(int(len(a)))"
   ]
  },
  {
   "cell_type": "code",
   "execution_count": 1,
   "metadata": {
    "ExecuteTime": {
     "end_time": "2023-09-04T04:04:59.927644Z",
     "start_time": "2023-09-04T04:04:59.904149Z"
    }
   },
   "outputs": [
    {
     "name": "stdout",
     "output_type": "stream",
     "text": [
      "1\n",
      "111211211221111122131222113111231231111221311121311311221131132111311231"
     ]
    }
   ],
   "source": [
    "# Your codes here\n",
    "\n",
    "#초기값\n",
    "for n in range(1, 11):\n",
    "\n",
    "    ant = [1] # 초기 개미수열\n",
    "\n",
    "    if n == 1:\n",
    "        print(1)\n",
    "    else:\n",
    "        n -= 1\n",
    "        while n:\n",
    "            stack, temp = [], []\n",
    "            while ant:\n",
    "                flag = ant.pop(0)\n",
    "                try:\n",
    "                    if flag == stack[-1]:\n",
    "                        temp[-1] += 1\n",
    "                    else:\n",
    "                        temp.extend([flag, 1])\n",
    "                        stack.append(flag)\n",
    "                except: # 수열의 맨 처음\n",
    "                    stack.append(flag)\n",
    "                    temp.extend([flag, 1])\n",
    "            n -= 1\n",
    "            ant = temp\n",
    "\n",
    "        for a in ant:\n",
    "            print(a, end=\"\")"
   ]
  },
  {
   "cell_type": "code",
   "execution_count": 9,
   "metadata": {
    "ExecuteTime": {
     "end_time": "2022-12-05T05:01:23.783577Z",
     "start_time": "2022-12-05T05:01:23.761623Z"
    }
   },
   "outputs": [
    {
     "name": "stdout",
     "output_type": "stream",
     "text": [
      "1\n",
      "11\n",
      "12\n",
      "1121\n",
      "122111\n",
      "112213\n",
      "12221131\n",
      "1123123111\n",
      "12213111213113\n",
      "11221131132111311231\n"
     ]
    }
   ],
   "source": [
    "char = \"1\"\n",
    "output = \"\"\n",
    "for i in range(9):\n",
    "    j = 0\n",
    "    if i==0:\n",
    "        print(char)\n",
    "    while j < len(char):\n",
    "        curr = char[j]\n",
    "        count = 1\n",
    "        while j+1 < len(char) and curr == char[j+1]:\n",
    "            count += 1\n",
    "            j += 1\n",
    "        output += curr + str(count)\n",
    "        j += 1\n",
    "    print (output)\n",
    "    char = output\n",
    "    output = \"\""
   ]
  },
  {
   "cell_type": "markdown",
   "metadata": {},
   "source": [
    "### 1) 리스트 컴프리헨션\n",
    "리스트 생성하기\n",
    "기존에 배운 문법으로 1부터 10까지 정수를 순서대로 가지고 있는 리스트를 생성하는코드는 다음과 같습니다.\n",
    "\n",
    "numbers = []\n",
    "for n in range(1, 10+1):\n",
    "    numbers.append(n)\n",
    "이러한 코드를 컴프리헨션으로 표기하면 다음과 같습니다\n",
    "\n",
    "리스트를 생성하는 컴프리헨션을 리스트컴프리헨션 이라고 부릅니다.\n",
    "\n",
    ">>> [x for x in range(10)]\n",
    "리스트 컴프리헨션이 작동하는 방식을 for문과 비교하면 다음과 같습니다.\n",
    "\n",
    "처음\n",
    "\n",
    "리스트를 생성하는 방식은 대괄호([])를 통해 생성하는 방법은 동일합니다. 차이점은 컴프리헨션은 리스트 내부에 코드를 작성한다는 점입니다. 만약 딕셔너리 컴프리헨션 또는 셋 컴프리헨션 문법을 사용할때는 대괄호를 사용합니다.\n",
    "\n",
    "두번째\n",
    "\n",
    "반복문은 별도로 작성하지않고 리스트 컴프리헨션은 리스트 내부에 작성하여 반복합니다.\n",
    "\n",
    "세번째\n",
    "\n",
    "리스트 컴프리헨션은 for문에서 반복되는 변수를 콜론(:)다음에 줄을 바꿔 들여쓰기하는것이 아니라, for문앞에 작성합니다. 컴프리헨션에서 사용한 x는 for문 내부에서 append메소드에 인자로 넣은 변수 n과 같습니다. 만약 2의 배수를 10개 가지고 있는 리스트를 컴프리헨션을 사용해서 만들면 다음과 같습니다.\n",
    "\n",
    ">>> [ 2*x for x in range(1, 10+1) ]\n",
    "[2, 4, 6, 8, 10, 12, 14, 16, 18, 20]\n",
    "조건 걸기\n",
    "만약 1부터 10까지 숫자중 짝수만 순차적으로 들어있는 리스트를 생성하는 코드는 다음과 같습니다.\n",
    "\n",
    "even_numbers = []\n",
    "for n in range(1, 10+1):\n",
    "    if n % 2 == 0:\n",
    "        even_numbers.append(n)\n",
    "리스트 컴프리헨션에도 조건을 설정하여서 리스트를 생성할 수 있습니다.\n",
    "\n",
    "컴프리헨션 문법을 통한 방법\n",
    "컴프리헨션은 if 키워드를 지원합니다. 이때 if키워드는 for문 다음에 위치해야 합니다. 짝수를 담는 리스트 컴프리헨션은 다음과 같이 작성할 수 있습니다.\n",
    "\n",
    ">>>  [x for x in range(1, 10+1) if x % 2 == 0]\n",
    "[2, 4, 6, 8, 10]\n",
    "중복 표현\n",
    "컴프리헨션은 내부에서 for 키워드와 if키워드를 몇번이고 반복할 수 있습니다.\n",
    "\n",
    "for\n",
    "저녁으로 먹을 메뉴 쌈밥, 치킨, 피자 중 하나와 후식으로 먹을 사과, 아이스크림, 커피 를 정할때 가능한 경우에 수를 뽑는 코드를 컴프리헨션으로 표현하면 다음과 같이 작성할 수 있습니다.\n",
    "\n",
    ">>> [ (x, y) for x in ['쌈밥', '치킨', '피자'] for y in ['사과', '아이스크림', '커피']]\n",
    "[('쌈밥', '사과'),\n",
    " ('쌈밥', '아이스크림'),\n",
    " ('쌈밥', '커피'),\n",
    " ('치킨', '사과'),\n",
    " ('치킨', '아이스크림'),\n",
    " ('치킨', '커피'),\n",
    " ('피자', '사과'),\n",
    " ('피자', '아이스크림'),\n",
    " ('피자', '커피')]\n",
    "이런식으로 컴프리헨션 문법은 다중 for문을 지원합니다.\n",
    "\n",
    "for문이 작동하는 순서는 왼쪽에 있는 for문이 먼저 작동을 합니다.\n",
    "\n",
    "가서먹을지 배달을 시킬지 2가지 선택지도 추가한다면 다음과 같이 작성할 수 있습니다,.\n",
    "\n",
    ">>> [ (x, z, y) for x in ['쌈밥', '치킨', '피자'] for y in ['사과', '아이스크림', '커피'] for z in ['배달 시키기', '가서 먹기']]\n",
    "[('쌈밥', '배달 시키기', '사과'),\n",
    " ('쌈밥', '가서 먹기', '사과'),\n",
    " ('쌈밥', '배달 시키기', '아이스크림'),\n",
    " ('쌈밥', '가서 먹기', '아이스크림'),\n",
    " ('쌈밥', '배달 시키기', '커피'),\n",
    " ('쌈밥', '가서 먹기', '커피'),\n",
    " ('치킨', '배달 시키기', '사과'),\n",
    " ('치킨', '가서 먹기', '사과'),\n",
    " ('치킨', '배달 시키기', '아이스크림'),\n",
    " ('치킨', '가서 먹기', '아이스크림'),\n",
    " ('치킨', '배달 시키기', '커피'),\n",
    " ('치킨', '가서 먹기', '커피'),\n",
    " ('피자', '배달 시키기', '사과'),\n",
    " ('피자', '가서 먹기', '사과'),\n",
    " ('피자', '배달 시키기', '아이스크림'),\n",
    " ('피자', '가서 먹기', '아이스크림'),\n",
    " ('피자', '배달 시키기', '커피'),\n",
    " ('피자', '가서 먹기', '커피')]\n",
    "실행순서는 역시 왼쪽의 for문이 우선해서 작동합니다.\n",
    "\n",
    "for문으로 바꾼다면 다음과 같습니다.\n",
    "\n",
    "for x in ['쌈밥', '치킨', '피자']:\n",
    "    for y in ['사과', '아이스크림', '커피']:\n",
    "        for z in ['배달 시키기', '가서 먹기']:\n",
    "            print(x, z, y)\n",
    "if\n",
    "if문 또한 중복해서 작성해서 여러 조건을 걸 수 있습니다.\n",
    "\n",
    ">>> [ x for x in range(10) if x < 5 if x % 2 == 0 ]\n",
    "[0, 2, 4]\n",
    "\n",
    "\n",
    "test = []\n",
    "for a in range (1,10):\n",
    "\n",
    "    test.append(a)\n",
    "    \n",
    "test\n",
    "\n",
    "[a for a in range(1,10)]  "
   ]
  },
  {
   "cell_type": "code",
   "execution_count": null,
   "metadata": {},
   "outputs": [],
   "source": []
  },
  {
   "cell_type": "code",
   "execution_count": null,
   "metadata": {},
   "outputs": [],
   "source": []
  },
  {
   "cell_type": "code",
   "execution_count": null,
   "metadata": {},
   "outputs": [],
   "source": []
  }
 ],
 "metadata": {
  "kernelspec": {
   "display_name": "Python 3 (ipykernel)",
   "language": "python",
   "name": "python3"
  },
  "language_info": {
   "codemirror_mode": {
    "name": "ipython",
    "version": 3
   },
   "file_extension": ".py",
   "mimetype": "text/x-python",
   "name": "python",
   "nbconvert_exporter": "python",
   "pygments_lexer": "ipython3",
   "version": "3.9.12"
  },
  "toc": {
   "base_numbering": 1,
   "nav_menu": {},
   "number_sections": true,
   "sideBar": true,
   "skip_h1_title": false,
   "title_cell": "Table of Contents",
   "title_sidebar": "Contents",
   "toc_cell": false,
   "toc_position": {
    "height": "calc(100% - 180px)",
    "left": "10px",
    "top": "150px",
    "width": "279.273px"
   },
   "toc_section_display": true,
   "toc_window_display": true
  }
 },
 "nbformat": 4,
 "nbformat_minor": 4
}
