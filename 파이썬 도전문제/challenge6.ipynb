{
 "cells": [
  {
   "cell_type": "code",
   "execution_count": 3,
   "id": "8843519e",
   "metadata": {
    "ExecuteTime": {
     "end_time": "2022-12-04T12:46:01.584613Z",
     "start_time": "2022-12-04T12:46:01.563215Z"
    }
   },
   "outputs": [],
   "source": [
    "#코드1\n",
    "def chk_socialID():\n",
    "    seed = [2,3,4,5,6,7,8,9,2,3,4,5,0]\n",
    "    sid = input(\"주민등록번호를 입력해주세요: \")\n",
    "    \n",
    "    sum = 0\n",
    "    for i, n in enumerate(sid):\n",
    "        sum += int(n)*seed[i]\n",
    "    if (11 - sum % 11) == int(sid[-1]):\n",
    "        print(\"정상적인 주민등록번호입니다.\")\n",
    "    else:\n",
    "        print(\"유효하지 않은 주민등록번호입니다.\")\n",
    "        chk_socialID()\n"
   ]
  },
  {
   "cell_type": "code",
   "execution_count": 5,
   "id": "d5abda3a",
   "metadata": {
    "ExecuteTime": {
     "end_time": "2022-12-04T12:46:22.175277Z",
     "start_time": "2022-12-04T12:46:18.606077Z"
    },
    "scrolled": true
   },
   "outputs": [
    {
     "name": "stdout",
     "output_type": "stream",
     "text": [
      "주민등록번호를 입력해주세요: 0003203249513\n",
      "정상적인 주민등록번호입니다.\n"
     ]
    }
   ],
   "source": [
    "chk_socialID()"
   ]
  },
  {
   "cell_type": "code",
   "execution_count": 6,
   "id": "23d808c5",
   "metadata": {
    "ExecuteTime": {
     "end_time": "2022-12-04T12:46:27.348714Z",
     "start_time": "2022-12-04T12:46:27.340704Z"
    }
   },
   "outputs": [],
   "source": [
    "import re\n",
    "def check_socialID1():\n",
    "    seed=[2,3,4,5,6,7,8,9,2,3,4,5,0]\n",
    "    m=re.compile('\\d\\d\\d\\d\\d\\d-\\d\\d\\d\\d\\d\\d\\d')\n",
    "    while True:\n",
    "        try:\n",
    "            sid=input('주민번호를 입력하세주세요 : ')\n",
    "            s=m.match(sid)\n",
    "            if not s:\n",
    "                raise Exception\n",
    "            else:\n",
    "                break\n",
    "                return sid\n",
    "        except Exception as e:\n",
    "            print('정상적인 값이 입력되지 않았습니다.')\n",
    "            continue\n",
    "    sid=sid.replace('-','')\n",
    "    sum=0\n",
    "    for i,k in enumerate(sid):\n",
    "        sum+=int(k)*seed[i]\n",
    "    if (11-(sum%11))==int(sid[-1]):\n",
    "        print('정상적인 주민번호 입니다')\n",
    "    else:\n",
    "        print('정상적이지 않은 주민번호 입니다')\n",
    "        check_socialID1()"
   ]
  },
  {
   "cell_type": "code",
   "execution_count": 2,
   "id": "561944b9",
   "metadata": {
    "ExecuteTime": {
     "end_time": "2022-12-04T12:45:50.567142Z",
     "start_time": "2022-12-04T12:45:50.545026Z"
    }
   },
   "outputs": [
    {
     "name": "stdout",
     "output_type": "stream",
     "text": [
      "유효하지 않은 주민번호가 존재합니다\n"
     ]
    }
   ],
   "source": [
    "import re\n",
    "def check_socialIDs(*ID_l):\n",
    "    chk_IDs=[]\n",
    "    seed=[2,3,4,5,6,7,8,9,2,3,4,5,0]\n",
    "    m=re.compile('\\d\\d\\d\\d\\d\\d-\\d\\d\\d\\d\\d\\d\\d')\n",
    "    for i in ID_l:\n",
    "        s=m.match(i)\n",
    "        if s:\n",
    "            i=i.replace('-','')\n",
    "        else:\n",
    "            print(\"유효하지 않은 주민번호가 존재합니다\")\n",
    "            break\n",
    "        sum=0\n",
    "        for j,k in enumerate(i):\n",
    "            sum+=int(k)*seed[j]\n",
    "        if (11-(sum%11))==int(str(i)[-1]):\n",
    "            chk_IDs.append(i)\n",
    "        else:\n",
    "            print(\"유효하지 않은 주민번호가 존재합니다\")\n",
    "            break\n",
    "        if len(ID_l)==len(chk_IDs):\n",
    "            print(\"{}은 정상적인 주번번호 입니다\".format(chk_IDs))\n",
    "check_socialIDs('990306-1163921', '000320-3249513','000320-3249518')"
   ]
  },
  {
   "cell_type": "code",
   "execution_count": null,
   "id": "0ea8d557",
   "metadata": {
    "ExecuteTime": {
     "start_time": "2022-11-30T12:24:40.290Z"
    }
   },
   "outputs": [
    {
     "name": "stdout",
     "output_type": "stream",
     "text": [
      "주민번호를 입력하세주세요 : 000320-3249514\n",
      "정상적이지 않은 주민번호 입니다\n"
     ]
    }
   ],
   "source": [
    "check_socialID1()"
   ]
  },
  {
   "cell_type": "code",
   "execution_count": 1,
   "id": "843a148b",
   "metadata": {
    "ExecuteTime": {
     "end_time": "2022-12-05T06:55:43.962597Z",
     "start_time": "2022-12-05T06:55:43.937294Z"
    }
   },
   "outputs": [],
   "source": [
    "#코드1\n",
    "def chk_socialID():\n",
    "    seed = [2,3,4,5,6,7,8,9,2,3,4,5,0]\n",
    "    sid = input(\"주민등록번호를 입력해주세요: \")\n",
    "    \n",
    "    sum = 0\n",
    "    for i, n in enumerate(sid):\n",
    "        sum += int(n)*seed[i]\n",
    "    if (11 - sum % 11) == int(sid[-1]):\n",
    "        print(\"정상적인 주민등록번호입니다.\")\n",
    "    else:\n",
    "        print(\"유효하지 않은 주민등록번호입니다.\")\n",
    "        chk_socialID()"
   ]
  },
  {
   "cell_type": "code",
   "execution_count": null,
   "id": "13d155ee",
   "metadata": {},
   "outputs": [],
   "source": []
  }
 ],
 "metadata": {
  "kernelspec": {
   "display_name": "Python 3 (ipykernel)",
   "language": "python",
   "name": "python3"
  },
  "language_info": {
   "codemirror_mode": {
    "name": "ipython",
    "version": 3
   },
   "file_extension": ".py",
   "mimetype": "text/x-python",
   "name": "python",
   "nbconvert_exporter": "python",
   "pygments_lexer": "ipython3",
   "version": "3.9.12"
  },
  "toc": {
   "base_numbering": 1,
   "nav_menu": {},
   "number_sections": true,
   "sideBar": true,
   "skip_h1_title": false,
   "title_cell": "Table of Contents",
   "title_sidebar": "Contents",
   "toc_cell": false,
   "toc_position": {},
   "toc_section_display": true,
   "toc_window_display": false
  }
 },
 "nbformat": 4,
 "nbformat_minor": 5
}
