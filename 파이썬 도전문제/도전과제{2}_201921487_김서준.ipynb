{
 "cells": [
  {
   "cell_type": "code",
   "execution_count": 6,
   "id": "421c397f",
   "metadata": {
    "ExecuteTime": {
     "end_time": "2022-10-23T06:49:33.876961Z",
     "start_time": "2022-10-23T06:49:33.865678Z"
    }
   },
   "outputs": [],
   "source": [
    "phone_number = \"010-1111-2222\""
   ]
  },
  {
   "cell_type": "code",
   "execution_count": 7,
   "id": "011fc484",
   "metadata": {
    "ExecuteTime": {
     "end_time": "2022-10-23T06:49:35.362956Z",
     "start_time": "2022-10-23T06:49:35.345633Z"
    }
   },
   "outputs": [
    {
     "name": "stdout",
     "output_type": "stream",
     "text": [
      "01011112222\n"
     ]
    }
   ],
   "source": [
    "# code here\n",
    "phone_number = phone_number.replace('-', '')\n",
    "print(phone_number)"
   ]
  },
  {
   "cell_type": "code",
   "execution_count": 20,
   "id": "83e9ca7a",
   "metadata": {
    "ExecuteTime": {
     "end_time": "2022-10-23T06:59:48.677333Z",
     "start_time": "2022-10-23T06:59:48.665947Z"
    }
   },
   "outputs": [],
   "source": [
    "phone_book = ['010-1234-5678','010-9123-4567','010-8765-4321']"
   ]
  },
  {
   "cell_type": "code",
   "execution_count": 21,
   "id": "3dc10976",
   "metadata": {
    "ExecuteTime": {
     "end_time": "2022-10-23T06:59:52.007856Z",
     "start_time": "2022-10-23T06:59:51.992545Z"
    }
   },
   "outputs": [
    {
     "name": "stdout",
     "output_type": "stream",
     "text": [
      "010-1234-5678 처리 중...\n",
      "01012345678 변환 완료!\n",
      "010-9123-4567 처리 중...\n",
      "01091234567 변환 완료!\n",
      "010-8765-4321 처리 중...\n",
      "01087654321 변환 완료!\n"
     ]
    }
   ],
   "source": [
    "print(phone_book[0],\"처리 중...\")\n",
    "phone_book[0] = phone_book[0].replace('-','')\n",
    "print(phone_book[0],'변환 완료!')\n",
    "print(phone_book[1],\"처리 중...\")\n",
    "phone_book[1] = phone_book[1].replace('-','')\n",
    "print(phone_book[1],'변환 완료!')\n",
    "print(phone_book[2],\"처리 중...\")\n",
    "phone_book[2] = phone_book[2].replace('-','')\n",
    "print(phone_book[2],'변환 완료!')"
   ]
  },
  {
   "cell_type": "code",
   "execution_count": 22,
   "id": "3c031ddd",
   "metadata": {
    "ExecuteTime": {
     "end_time": "2022-10-23T06:59:54.777477Z",
     "start_time": "2022-10-23T06:59:54.762398Z"
    }
   },
   "outputs": [
    {
     "data": {
      "text/plain": [
       "['01012345678', '01091234567', '01087654321']"
      ]
     },
     "execution_count": 22,
     "metadata": {},
     "output_type": "execute_result"
    }
   ],
   "source": [
    "phone_book"
   ]
  },
  {
   "cell_type": "code",
   "execution_count": 3,
   "id": "cb672630",
   "metadata": {
    "ExecuteTime": {
     "end_time": "2022-10-23T07:25:36.846422Z",
     "start_time": "2022-10-23T07:25:36.821900Z"
    }
   },
   "outputs": [],
   "source": [
    "urls = ['http://challengeURL.kr/1',\n",
    "'http://challengeURL.kr/4',\n",
    "'http://challengeURL.kr/7',\n",
    "'http://challengeURL.kr/11',\n",
    "'http://challengeURL.kr/24',\n",
    "'http://challengeURL.kr/32',\n",
    "'http://challengeURL.kr/42',\n",
    "'http://challengeURL.kr/61',\n",
    "'http://challengeURL.kr/80',\n",
    "'http://challengeURL.kr/99',\n",
    "'http://challengeURL.kr/119',\n",
    "'http://challengeURL.kr/123',\n",
    "'http://challengeURL.kr/168',\n",
    "'http://challengeURL.kr/197',\n",
    "'http://challengeURL.kr/210',\n",
    "'http://challengeURL.kr/255',\n",
    "'http://challengeURL.kr/289',\n",
    "'http://challengeURL.kr/324',\n",
    "'http://challengeURL.kr/359',\n",
    "'http://challengeURL.kr/400',\n",
    "'http://challengeURL.kr/441',\n",
    "'http://challengeURL.kr/484',\n",
    "'http://challengeURL.kr/521',\n",
    "'http://challengeURL.kr/543',\n",
    "'http://challengeURL.kr/625',\n",
    "'http://challengeURL.kr/676',\n",
    "'http://challengeURL.kr/728',\n",
    "'http://challengeURL.kr/784',\n",
    "'http://challengeURL.kr/842',\n",
    "'http://challengeURL.kr/901',\n",
    "'http://challengeURL.kr/969',\n",
    "'http://challengeURL.kr/1001',\n",
    "'http://challengeURL.kr/1089',\n",
    "'http://challengeURL.kr/1156',\n",
    "'http://challengeURL.kr/1225',\n",
    "'http://challengeURL.kr/1246',\n",
    "'http://challengeURL.kr/1369',\n",
    "'http://challengeURL.kr/1444',\n",
    "'http://challengeURL.kr/1521',\n",
    "'http://challengeURL.kr/1608',\n",
    "'http://challengeURL.kr/1681',\n",
    "'http://challengeURL.kr/1764',\n",
    "'http://challengeURL.kr/1849',\n",
    "'http://challengeURL.kr/1936',\n",
    "'http://challengeURL.kr/2025',\n",
    "'http://challengeURL.kr/2116',\n",
    "'http://challengeURL.kr/2209',\n",
    "'http://challengeURL.kr/2304',\n",
    "'http://challengeURL.kr/2401',\n",
    "'http://challengeURL.kr/2500']"
   ]
  },
  {
   "cell_type": "code",
   "execution_count": 14,
   "id": "ebbf3b35",
   "metadata": {
    "ExecuteTime": {
     "end_time": "2022-10-23T07:31:53.917943Z",
     "start_time": "2022-10-23T07:31:53.902188Z"
    }
   },
   "outputs": [
    {
     "name": "stdout",
     "output_type": "stream",
     "text": [
      "1 4 7 11 24 32 42 61 80 99 119 123 168 197 210 255 289 324 359 400 441 484 521 543 625 676 728 784 842 901 969 1001 1089 1156 1225 1246 1369 1444 1521 1608 1681 1764 1849 1936 2025 2116 2209 2304 2401 2500 "
     ]
    }
   ],
   "source": [
    "for i in range(len(urls)):\n",
    "    print(urls[i].split('/')[3],end=' ')"
   ]
  },
  {
   "cell_type": "code",
   "execution_count": null,
   "id": "a627d9c3",
   "metadata": {},
   "outputs": [],
   "source": []
  },
  {
   "cell_type": "code",
   "execution_count": null,
   "id": "9e090df6",
   "metadata": {},
   "outputs": [],
   "source": []
  }
 ],
 "metadata": {
  "kernelspec": {
   "display_name": "Python 3 (ipykernel)",
   "language": "python",
   "name": "python3"
  },
  "language_info": {
   "codemirror_mode": {
    "name": "ipython",
    "version": 3
   },
   "file_extension": ".py",
   "mimetype": "text/x-python",
   "name": "python",
   "nbconvert_exporter": "python",
   "pygments_lexer": "ipython3",
   "version": "3.9.12"
  },
  "toc": {
   "base_numbering": 1,
   "nav_menu": {},
   "number_sections": true,
   "sideBar": true,
   "skip_h1_title": false,
   "title_cell": "Table of Contents",
   "title_sidebar": "Contents",
   "toc_cell": false,
   "toc_position": {},
   "toc_section_display": true,
   "toc_window_display": false
  }
 },
 "nbformat": 4,
 "nbformat_minor": 5
}
